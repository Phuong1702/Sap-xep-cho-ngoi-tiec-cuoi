{
 "cells": [
  {
   "cell_type": "code",
   "execution_count": 1,
   "metadata": {
    "colab": {
     "base_uri": "https://localhost:8080/"
    },
    "executionInfo": {
     "elapsed": 8852,
     "status": "ok",
     "timestamp": 1742320222902,
     "user": {
      "displayName": "Nguyễn Quốc Việt",
      "userId": "09829678051321382195"
     },
     "user_tz": -420
    },
    "id": "u-g4EUzSXdwx",
    "outputId": "60516087-0321-49d3-eae3-33f1db41014c"
   },
   "outputs": [
    {
     "ename": "ModuleNotFoundError",
     "evalue": "No module named 'pandas'",
     "output_type": "error",
     "traceback": [
      "\u001b[31m---------------------------------------------------------------------------\u001b[39m",
      "\u001b[31mModuleNotFoundError\u001b[39m                       Traceback (most recent call last)",
      "\u001b[36mCell\u001b[39m\u001b[36m \u001b[39m\u001b[32mIn[1]\u001b[39m\u001b[32m, line 2\u001b[39m\n\u001b[32m      1\u001b[39m \u001b[38;5;28;01mimport\u001b[39;00m\u001b[38;5;250m \u001b[39m\u001b[34;01mrandom\u001b[39;00m\n\u001b[32m----> \u001b[39m\u001b[32m2\u001b[39m \u001b[38;5;28;01mimport\u001b[39;00m\u001b[38;5;250m \u001b[39m\u001b[34;01mpandas\u001b[39;00m\u001b[38;5;250m \u001b[39m\u001b[38;5;28;01mas\u001b[39;00m\u001b[38;5;250m \u001b[39m\u001b[34;01mpd\u001b[39;00m\n\u001b[32m      4\u001b[39m \u001b[38;5;66;03m# Đọc dữ liệu từ file Excel\u001b[39;00m\n\u001b[32m      5\u001b[39m \u001b[38;5;28;01mdef\u001b[39;00m\u001b[38;5;250m \u001b[39m\u001b[34mdoc_du_lieu_tu_excel\u001b[39m(duong_dan):\n",
      "\u001b[31mModuleNotFoundError\u001b[39m: No module named 'pandas'"
     ]
    }
   ],
   "source": [
    "import random\n",
    "import pandas as pd\n",
    "\n",
    "# Đọc dữ liệu từ file Excel\n",
    "def doc_du_lieu_tu_excel(duong_dan):\n",
    "    df = pd.read_excel(duong_dan)\n",
    "    khach_moi = list(set(df['Nguoi1'].tolist() + df['Nguoi2'].tolist()))\n",
    "    quan_he = {(row['Nguoi1'], row['Nguoi2']): row['MoiQuanHe'] for _, row in df.iterrows()}\n",
    "    return khach_moi, quan_he\n",
    "\n",
    "# Đọc dữ liệu với đường dẫn sửa lỗi cú pháp\n",
    "khach_moi, quan_he = doc_du_lieu_tu_excel(r'/content/drive/MyDrive/BTL/data.xlsx')\n",
    "\n",
    "# Cấu hình cơ bản\n",
    "KICH_THUOC_QUAN_THE = 100\n",
    "SO_THE_HE = 1000\n",
    "TY_LE_DOT_BIEN = 0.1\n",
    "\n",
    "điểm_quan_he = {\n",
    "    'vo_chong': 2000,\n",
    "    'anh_chi_em_ruot': 900,\n",
    "    'cha_me_con': 700,\n",
    "    'anh_chi_em_ho': 500,\n",
    "    'ho_hang': 300,\n",
    "    'ban_be': 100,\n",
    "    'khong_quen': 0\n",
    "}\n",
    "\n",
    "# Giới hạn số người mỗi bàn\n",
    "gioi_han_so_nguoi = 4\n",
    "\n",
    "# Hàm tính điểm thân thiết cho một bàn\n",
    "def tinh_diem_ban(ban):\n",
    "    diem = 0\n",
    "    for i in range(len(ban)):\n",
    "        for j in range(i + 1, len(ban)):\n",
    "            cap = (ban[i], ban[j]) if (ban[i], ban[j]) in quan_he else (ban[j], ban[i])\n",
    "            diem += điểm_quan_he.get(quan_he.get(cap, 'khong_quen'), 0)\n",
    "    return diem\n",
    "\n",
    "# Hàm đánh giá toàn bộ sơ đồ\n",
    "def danh_gia(so_do):\n",
    "    return sum(tinh_diem_ban(ban) for ban in so_do)\n",
    "\n",
    "# Tạo cá thể ngẫu nhiên\n",
    "def tao_ca_the():\n",
    "    khach_ngau_nhien = khach_moi[:]\n",
    "    random.shuffle(khach_ngau_nhien)\n",
    "    return [khach_ngau_nhien[i:i + gioi_han_so_nguoi] for i in range(0, len(khach_ngau_nhien), gioi_han_so_nguoi)]\n",
    "\n",
    "# Chọn lọc cá thể tốt\n",
    "def chon_loc(quan_the):\n",
    "    quan_the.sort(key=danh_gia, reverse=True)\n",
    "    return quan_the[:len(quan_the) // 2]\n",
    "\n",
    "# Lai ghép hai cá thể\n",
    "def lai_ghep(cha, me):\n",
    "    con = []\n",
    "    for i in range(len(cha)):\n",
    "        con.append(random.choice([cha[i], me[i]]))\n",
    "    return con\n",
    "\n",
    "# Đột biến\n",
    "def dot_bien(ca_the):\n",
    "    if random.random() < TY_LE_DOT_BIEN:\n",
    "        a, b = random.sample(range(len(khach_moi)), 2)\n",
    "        ds_phang = sum(ca_the, [])\n",
    "        ds_phang[a], ds_phang[b] = ds_phang[b], ds_phang[a]\n",
    "        return [ds_phang[i:i + gioi_han_so_nguoi] for i in range(0, len(ds_phang), gioi_han_so_nguoi)]\n",
    "    return ca_the\n",
    "\n",
    "# Giải thuật di truyền\n",
    "def thuat_toan_di_truyen():\n",
    "    quan_the = [tao_ca_the() for _ in range(KICH_THUOC_QUAN_THE)]\n",
    "    for _ in range(SO_THE_HE):\n",
    "        quan_the = chon_loc(quan_the)\n",
    "        con_cai = [dot_bien(lai_ghep(random.choice(quan_the), random.choice(quan_the))) for _ in range(KICH_THUOC_QUAN_THE)]\n",
    "        quan_the.extend(con_cai)\n",
    "    giai_phap_tot_nhat = max(quan_the, key=danh_gia)\n",
    "    return giai_phap_tot_nhat, danh_gia(giai_phap_tot_nhat)\n",
    "\n",
    "# Chạy thuật toán\n",
    "giai_phap, diem_tot_nhat = thuat_toan_di_truyen()\n",
    "print(\"Sơ đồ chỗ ngồi tối ưu:\")\n",
    "for i, ban in enumerate(giai_phap):\n",
    "    print(f\"Bàn {i + 1}: {', '.join(ban)}\")\n",
    "print(\"Điểm cao nhất:\", diem_tot_nhat)"
   ]
  }
 ],
 "metadata": {
  "colab": {
   "authorship_tag": "ABX9TyNHGr87okCYsG/ZOAvTlBD9",
   "mount_file_id": "19fhCXlk5_TpKCCcw4FLVD93DbpDzjEc0",
   "provenance": []
  },
  "kernelspec": {
   "display_name": "Python 3",
   "name": "python3"
  },
  "language_info": {
   "codemirror_mode": {
    "name": "ipython",
    "version": 3
   },
   "file_extension": ".py",
   "mimetype": "text/x-python",
   "name": "python",
   "nbconvert_exporter": "python",
   "pygments_lexer": "ipython3",
   "version": "3.12.5"
  }
 },
 "nbformat": 4,
 "nbformat_minor": 0
}
