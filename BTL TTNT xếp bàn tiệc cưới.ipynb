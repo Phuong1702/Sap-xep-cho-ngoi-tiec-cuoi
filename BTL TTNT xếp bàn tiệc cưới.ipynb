{
 "cells": [
  {
   "cell_type": "code",
   "execution_count": 1,
   "metadata": {
    "colab": {
     "base_uri": "https://localhost:8080/",
     "height": 1000
    },
    "executionInfo": {
     "elapsed": 4207,
     "status": "ok",
     "timestamp": 1742398632438,
     "user": {
      "displayName": "Phương Nguyễn",
      "userId": "07174982439449888308"
     },
     "user_tz": -420
    },
    "id": "WV63sBupA4QC",
    "outputId": "bcac6247-90ab-436e-b4ed-3a6dc5a82646"
   },
   "outputs": [
    {
     "ename": "ModuleNotFoundError",
     "evalue": "No module named 'pandas'",
     "output_type": "error",
     "traceback": [
      "\u001b[31m---------------------------------------------------------------------------\u001b[39m",
      "\u001b[31mModuleNotFoundError\u001b[39m                       Traceback (most recent call last)",
      "\u001b[36mCell\u001b[39m\u001b[36m \u001b[39m\u001b[32mIn[1]\u001b[39m\u001b[32m, line 2\u001b[39m\n\u001b[32m      1\u001b[39m \u001b[38;5;28;01mimport\u001b[39;00m\u001b[38;5;250m \u001b[39m\u001b[34;01mrandom\u001b[39;00m\n\u001b[32m----> \u001b[39m\u001b[32m2\u001b[39m \u001b[38;5;28;01mimport\u001b[39;00m\u001b[38;5;250m \u001b[39m\u001b[34;01mpandas\u001b[39;00m\u001b[38;5;250m \u001b[39m\u001b[38;5;28;01mas\u001b[39;00m\u001b[38;5;250m \u001b[39m\u001b[34;01mpd\u001b[39;00m\n\u001b[32m      3\u001b[39m \u001b[38;5;28;01mimport\u001b[39;00m\u001b[38;5;250m \u001b[39m\u001b[34;01mtime\u001b[39;00m\n\u001b[32m      4\u001b[39m \u001b[38;5;28;01mimport\u001b[39;00m\u001b[38;5;250m \u001b[39m\u001b[34;01mmatplotlib\u001b[39;00m\u001b[34;01m.\u001b[39;00m\u001b[34;01mpyplot\u001b[39;00m\u001b[38;5;250m \u001b[39m\u001b[38;5;28;01mas\u001b[39;00m\u001b[38;5;250m \u001b[39m\u001b[34;01mplt\u001b[39;00m\n",
      "\u001b[31mModuleNotFoundError\u001b[39m: No module named 'pandas'"
     ]
    }
   ],
   "source": [
    "import random\n",
    "import pandas as pd\n",
    "import time\n",
    "import matplotlib.pyplot as plt\n",
    "import networkx as nx\n",
    "\n",
    "# Đọc dữ liệu từ file Excel\n",
    "def doc_du_lieu_tu_excel(duong_dan):\n",
    "    df = pd.read_excel(\"/content/drive/MyDrive/TTNT/BTL.xlsx\")\n",
    "    khach_moi = list(set(df['Nguoi1'].tolist() + df['Nguoi2'].tolist()))\n",
    "    quan_he = {(row['Nguoi1'], row['Nguoi2']): row['MoiQuanHe'] for _, row in df.iterrows()}\n",
    "    return khach_moi, quan_he\n",
    "\n",
    "# Điểm quan hệ\n",
    "diem_quan_he = {\n",
    "    'anh_chi_em_ruot': 900,\n",
    "    'cha_me_con': 700,\n",
    "    'anh_chi_em_ho': 500,\n",
    "    'ho_hang': 300,\n",
    "    'ban_be': 100,\n",
    "    'khong_quen': 0\n",
    "}\n",
    "\n",
    "# Giới hạn số người mỗi bàn\n",
    "gioi_han_so_nguoi = 5\n",
    "KICH_THUOC_QUAN_THE = 100\n",
    "SO_THE_HE = 200\n",
    "TY_LE_DOT_BIEN = 0.1\n",
    "\n",
    "# Hàm tính điểm thân thiết cho một bàn\n",
    "def tinh_diem_ban(ban, quan_he):\n",
    "    diem = 0\n",
    "    for i in range(len(ban)):\n",
    "        for j in range(i + 1, len(ban)):\n",
    "            cap = (ban[i], ban[j]) if (ban[i], ban[j]) in quan_he else (ban[j], ban[i])\n",
    "            diem += diem_quan_he.get(quan_he.get(cap, 'khong_quen'), 0)\n",
    "    return diem\n",
    "\n",
    "# Hàm đánh giá một giải pháp\n",
    "def danh_gia(giai_phap):\n",
    "    return sum(tinh_diem_ban(ban, quan_he) for ban in giai_phap)\n",
    "\n",
    "# Tạo cá thể ngẫu nhiên\n",
    "def tao_ca_the():\n",
    "    random.shuffle(khach_moi)\n",
    "    return [khach_moi[i:i + gioi_han_so_nguoi] for i in range(0, len(khach_moi), gioi_han_so_nguoi)]\n",
    "\n",
    "# Chọn lọc cá thể tốt nhất\n",
    "def chon_loc(quan_the):\n",
    "    return sorted(quan_the, key=danh_gia, reverse=True)[:KICH_THUOC_QUAN_THE // 2]\n",
    "\n",
    "# Lai ghép hai cá thể\n",
    "def lai_ghep(ca_the1, ca_the2):\n",
    "    con = []\n",
    "    for i in range(min(len(ca_the1), len(ca_the2))):\n",
    "        if random.random() < 0.5:\n",
    "            con.append(ca_the1[i])\n",
    "        else:\n",
    "            con.append(ca_the2[i])\n",
    "    return con\n",
    "\n",
    "# Đột biến cá thể\n",
    "def dot_bien(ca_the):\n",
    "    if random.random() < TY_LE_DOT_BIEN:\n",
    "        ban1, ban2 = random.sample(range(len(ca_the)), 2)\n",
    "        i, j = random.randint(0, len(ca_the[ban1]) - 1), random.randint(0, len(ca_the[ban2]) - 1)\n",
    "        ca_the[ban1][i], ca_the[ban2][j] = ca_the[ban2][j], ca_the[ban1][i]\n",
    "    return ca_the\n",
    "\n",
    "# Giải thuật di truyền\n",
    "def thuat_toan_di_truyen():\n",
    "    quan_the = [tao_ca_the() for _ in range(KICH_THUOC_QUAN_THE)]\n",
    "    for the_he in range(SO_THE_HE):\n",
    "        quan_the = chon_loc(quan_the)\n",
    "        con_cai = [dot_bien(lai_ghep(random.choice(quan_the), random.choice(quan_the))) for _ in range(KICH_THUOC_QUAN_THE)]\n",
    "        quan_the.extend(con_cai)\n",
    "        if the_he % 10 == 0:  # Theo dõi tiến trình mỗi 10 thế hệ\n",
    "            print(f\"Thế hệ {the_he}: Điểm tốt nhất = {danh_gia(max(quan_the, key=danh_gia))}\")\n",
    "    giai_phap_tot_nhat = max(quan_the, key=danh_gia)\n",
    "    return giai_phap_tot_nhat, danh_gia(giai_phap_tot_nhat)\n",
    "\n",
    "# Vẽ sơ đồ bàn tròn\n",
    "def ve_so_do_ban_tron(giai_phap):\n",
    "    for i, ban in enumerate(giai_phap):\n",
    "        G = nx.Graph()\n",
    "        G.add_nodes_from(ban)\n",
    "        for j in range(len(ban)):\n",
    "            for k in range(j + 1, len(ban)):\n",
    "                G.add_edge(ban[j], ban[k])\n",
    "        plt.figure(figsize=(6, 6))\n",
    "        plt.title(f\"Bàn {i + 1}\")\n",
    "        pos = nx.circular_layout(G)\n",
    "        nx.draw(G, pos, with_labels=True, node_color='lightblue', node_size=1000, edge_color='gray')\n",
    "        plt.show()\n",
    "\n",
    "# In mối quan hệ giữa các khách trong từng bàn\n",
    "def in_moi_quan_he(giai_phap, quan_he):\n",
    "    print(\"\\nChi tiết mối quan hệ trong từng bàn:\")\n",
    "    for i, ban in enumerate(giai_phap):\n",
    "        print(f\"Bàn {i + 1}:\")\n",
    "        for j in range(len(ban)):\n",
    "            for k in range(j + 1, len(ban)):\n",
    "                cap = (ban[j], ban[k]) if (ban[j], ban[k]) in quan_he else (ban[k], ban[j])\n",
    "                moi_quan_he = quan_he.get(cap, 'khong_quen')\n",
    "                print(f\"  {ban[j]} - {ban[k]}: {moi_quan_he}\")\n",
    "\n",
    "# Chạy chương trình\n",
    "if __name__ == \"__main__\":\n",
    "    duong_dan = 'du_lieu.xlsx'  # Đường dẫn file Excel\n",
    "    khach_moi, quan_he = doc_du_lieu_tu_excel(duong_dan)\n",
    "    print(f\"Số lượng khách mời: {len(khach_moi)}\")\n",
    "\n",
    "    start = time.time()\n",
    "    giai_phap, diem_tot_nhat = thuat_toan_di_truyen()\n",
    "    end = time.time()\n",
    "\n",
    "    print(\"Sơ đồ chỗ ngồi tối ưu:\")\n",
    "    for i, ban in enumerate(giai_phap):\n",
    "        print(f\"Bàn {i + 1}: {', '.join(ban)}\")\n",
    "    print(\"Điểm cao nhất:\", diem_tot_nhat)\n",
    "    print(f\"Thời gian chạy: {end - start:.2f} giây\")\n",
    "\n",
    "    # In mối quan hệ\n",
    "    in_moi_quan_he(giai_phap, quan_he)\n",
    "\n",
    "    # Vẽ sơ đồ bàn tròn\n",
    "    ve_so_do_ban_tron(giai_phap)\n"
   ]
  },
  {
   "cell_type": "code",
   "execution_count": null,
   "metadata": {
    "colab": {
     "base_uri": "https://localhost:8080/"
    },
    "executionInfo": {
     "elapsed": 16167,
     "status": "ok",
     "timestamp": 1742398121312,
     "user": {
      "displayName": "Phương Nguyễn",
      "userId": "07174982439449888308"
     },
     "user_tz": -420
    },
    "id": "473tttlIA-_e",
    "outputId": "0da7f5a2-17ee-4984-c10b-8e4534bcefde"
   },
   "outputs": [
    {
     "name": "stdout",
     "output_type": "stream",
     "text": [
      "Drive already mounted at /content/drive; to attempt to forcibly remount, call drive.mount(\"/content/drive\", force_remount=True).\n"
     ]
    }
   ],
   "source": [
    "from google.colab import drive\n",
    "drive.mount('/content/drive')"
   ]
  }
 ],
 "metadata": {
  "colab": {
   "authorship_tag": "ABX9TyPnD6aDohaXIUw45im4kJIb",
   "mount_file_id": "1bj7oSo0Bl-vg4YgOUDdIx2mA-gEktv4n",
   "provenance": []
  },
  "kernelspec": {
   "display_name": "Python 3",
   "name": "python3"
  },
  "language_info": {
   "codemirror_mode": {
    "name": "ipython",
    "version": 3
   },
   "file_extension": ".py",
   "mimetype": "text/x-python",
   "name": "python",
   "nbconvert_exporter": "python",
   "pygments_lexer": "ipython3",
   "version": "3.12.5"
  }
 },
 "nbformat": 4,
 "nbformat_minor": 0
}
